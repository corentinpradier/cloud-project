{
 "cells": [
  {
   "cell_type": "code",
   "execution_count": 4,
   "id": "db58cc54",
   "metadata": {},
   "outputs": [
    {
     "name": "stdout",
     "output_type": "stream",
     "text": [
      "['/Users/corentinpradier/Documents/Codes/Clouds_classification', '/Users/corentinpradier/miniconda3/envs/dev/lib/python310.zip', '/Users/corentinpradier/miniconda3/envs/dev/lib/python3.10', '/Users/corentinpradier/miniconda3/envs/dev/lib/python3.10/lib-dynload', '', '/Users/corentinpradier/miniconda3/envs/dev/lib/python3.10/site-packages']\n"
     ]
    }
   ],
   "source": [
    "import sys\n",
    "import os\n",
    "root_path = os.path.abspath(os.path.join(os.getcwd(), '..'))\n",
    "if root_path not in sys.path:\n",
    "    sys.path.insert(0, root_path)\n",
    "print(sys.path)  # pour vérifier"
   ]
  },
  {
   "cell_type": "code",
   "execution_count": 5,
   "id": "3ba12070",
   "metadata": {},
   "outputs": [
    {
     "ename": "ModuleNotFoundError",
     "evalue": "No module named 'cloudproject'",
     "output_type": "error",
     "traceback": [
      "\u001b[0;31m---------------------------------------------------------------------------\u001b[0m",
      "\u001b[0;31mModuleNotFoundError\u001b[0m                       Traceback (most recent call last)",
      "Cell \u001b[0;32mIn[5], line 1\u001b[0m\n\u001b[0;32m----> 1\u001b[0m \u001b[38;5;28;01mimport\u001b[39;00m\u001b[38;5;250m \u001b[39m\u001b[38;5;21;01mcloudproject\u001b[39;00m\n",
      "\u001b[0;31mModuleNotFoundError\u001b[0m: No module named 'cloudproject'"
     ]
    }
   ],
   "source": [
    "import cloudproject"
   ]
  },
  {
   "cell_type": "markdown",
   "id": "2a904e0d",
   "metadata": {},
   "source": []
  },
  {
   "cell_type": "code",
   "execution_count": null,
   "id": "f2a4539f",
   "metadata": {},
   "outputs": [],
   "source": []
  }
 ],
 "metadata": {
  "kernelspec": {
   "display_name": "dev",
   "language": "python",
   "name": "python3"
  },
  "language_info": {
   "codemirror_mode": {
    "name": "ipython",
    "version": 3
   },
   "file_extension": ".py",
   "mimetype": "text/x-python",
   "name": "python",
   "nbconvert_exporter": "python",
   "pygments_lexer": "ipython3",
   "version": "3.10.18"
  }
 },
 "nbformat": 4,
 "nbformat_minor": 5
}
