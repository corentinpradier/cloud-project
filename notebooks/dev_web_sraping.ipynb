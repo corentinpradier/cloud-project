{
 "cells": [
  {
   "cell_type": "code",
   "execution_count": 1,
   "id": "d7027199",
   "metadata": {},
   "outputs": [],
   "source": [
    "from bs4 import BeautifulSoup as bs\n",
    "import requests\n",
    "import os"
   ]
  },
  {
   "cell_type": "code",
   "execution_count": 2,
   "id": "02c4a954",
   "metadata": {},
   "outputs": [],
   "source": [
    "SEARCH_QUERIES = [\"altocumulus clouds\"]\n",
    "max_images = 10"
   ]
  },
  {
   "cell_type": "code",
   "execution_count": 3,
   "id": "11963dfb",
   "metadata": {},
   "outputs": [
    {
     "data": {
      "text/plain": [
       "'https://duckduckgo.com/?q=altocumulus+clouds&t=h_&iax=images&ia=images'"
      ]
     },
     "execution_count": 3,
     "metadata": {},
     "output_type": "execute_result"
    }
   ],
   "source": [
    "url = f\"https://duckduckgo.com/?q={SEARCH_QUERIES[0].replace(' ', '+')}&t=h_&iax=images&ia=images\"\n",
    "url"
   ]
  },
  {
   "cell_type": "code",
   "execution_count": 4,
   "id": "826b045b",
   "metadata": {},
   "outputs": [],
   "source": [
    "response = requests.get(url)"
   ]
  },
  {
   "cell_type": "code",
   "execution_count": 5,
   "id": "04c17885",
   "metadata": {},
   "outputs": [
    {
     "data": {
      "text/plain": [
       "b'<!DOCTYPE html><html lang=\"en-US\" class=\"no-js has-zcm  no-theme is-link-style-exp is-link-order-exp is-link-breadcrumb-exp is-related-search-exp is-vertical-tabs-exp  \"><head><meta name=\"description\" content=\"DuckDuckGo. Privacy, Simplified.\"><meta http-equiv=\"content-type\" content=\"text/html; charset=utf-8\"><title>altocumulus clouds at DuckDuckGo</title><meta name=\"apple-itunes-app\" content=\"app-id=663592361, app-argument=https://duckduckgo.com/?q=altocumulus+clouds&t=h_&iax=images&ia=images&smartbanner=1\"><link rel=\"stylesheet\" href=\"/dist/s.27f5ee0a705a2c7a4228.css\" type=\"text/css\"><link rel=\"stylesheet\" href=\"/dist/r.b5bdfacdd5d026b46388.css\" type=\"text/css\"><link rel=\"stylesheet\" href=\"/dist/wpl.main.0285490bc835b4bdcbd7.css\" type=\"text/css\" data-handle-css-custom-properties=\"true\"><link rel=\"stylesheet\" href=\"/dist/wpl.vendors.f96ec62b8a9c623d21f2.css\" type=\"text/css\" data-handle-css-custom-properties=\"true\"><meta name=\"robots\" content=\"noindex,nofollow\"><meta name=\"referrer\" content=\"origin\"><meta name=\"apple-mobile-web-app-title\" content=\"altocumulus clouds\"><link rel=\"preconnect\" href=\"https://links.duckduckgo.com\"><link rel=\"preload\" href=\"/font/ProximaNova-Reg-webfont.woff2\" as=\"font\" type=\"font/woff2\" crossorigin=\"anonymous\" /><link rel=\"preload\" href=\"/font/ProximaNova-Sbold-webfont.woff2\" as=\"font\" type=\"font/woff2\" crossorigin=\"anonymous\" /><link rel=\"shortcut icon\" href=\"/favicon.ico\" type=\"image/x-icon\" /><link id=\"icon60\" rel=\"apple-touch-icon\" href=\"/assets/icons/meta/DDG-iOS-icon_60x60.png?v=2\"/><link id=\"icon76\" rel=\"apple-touch-icon\" sizes=\"76x76\" href=\"/assets/icons/meta/DDG-iOS-icon_76x76.png?v=2\"/><link id=\"icon120\" rel=\"apple-touch-icon\" sizes=\"120x120\" href=\"/assets/icons/meta/DDG-iOS-icon_120x120.png?v=2\"/><link id=\"icon152\" rel=\"apple-touch-icon\" sizes=\"152x152\" href=\"/assets/icons/meta/DDG-iOS-icon_152x152.png?v=2\"/><link rel=\"image_src\" href=\"/assets/icons/meta/DDG-icon_256x256.png\"/><script type=\"text/javascript\">var dc_enabled=1,dc_iu=false,dc_pp=false,baseLinkUrl=\"links.duckduckgo.com\",baseLinkEnvName=\"prod\",testTrafficType=0,rpl=\"1\",fq=0,fd=1,it=0,iqa=0,iqbi=0,iqm=0,iqs=0,iqp=0,iqq=0,qw=2,dl=\"en\",ct=\"FR\",iqd=0,r1hc=0,r1c=0,r2c,r3c=0,rq=\"altocumulus%20clouds\",rqd=\"altocumulus clouds\",rfq=0,rt=\"\",ra=\"h_\",rv=\"\",rad=\"\",rds=30,rs=0,spice_version=\"2000\",spice_paths=\"{}\",locale=\"en_US\",settings_url_params={},rl=\"us-en\",shfl=1,shrl=\"fr-fr\",rlo=0,df=\"\",ds=\"\",sfq=\"\",iar=\"\",vqd=\"4-134034976749606216716467159186432892292\",safe_ddg=0,show_covid=0,perf_id=\"a94e92ccce3bf3d4\",parent_perf_id=\"9ba4457f7d3d7d6a\",ti,tig,y,y1,didNotLoadScripts=[],__DDG_BE_VERSION__=\"serp_20250803_131450_ET\",__DDG_FE_CHAT_HASH__=\"57446f2bf99bcbea6353\";function handleScriptError(el) { if (el && el.getAttribute) { window.didNotLoadScripts.push(el.getAttribute(\\'src\\')); }}</script><meta name=\"viewport\" content=\"width=device-width, initial-scale=1\" /><meta name=\"HandheldFriendly\" content=\"true\" /><meta name=\"apple-mobile-web-app-capable\" content=\"no\" /><script>var backendExperimentAssignments = {\"3adexp\":{\"active\":false,\"assignedVariant\":null},\"aaspuexp\":{\"active\":false,\"assignedVariant\":null},\"adimprexp\":{\"active\":true,\"assignedVariant\":\"b\"},\"aiheaderexp\":{\"active\":true,\"assignedVariant\":\"b\"},\"bccaexp\":{\"active\":true,\"assignedVariant\":\"b\"},\"biaexp\":{\"active\":true,\"assignedVariant\":\"b\"},\"binexp\":{\"active\":false,\"assignedVariant\":null},\"btaaexp\":{\"active\":true,\"assignedVariant\":\"b\"},\"defaultfontexpbe\":{\"active\":false,\"assignedVariant\":null},\"eclsexp\":{\"active\":true,\"assignedVariant\":\"b\"},\"headexp\":{\"active\":false,\"assignedVariant\":null},\"litexp\":{\"active\":true,\"assignedVariant\":\"a\"},\"mcnavexp\":{\"active\":false,\"assignedVariant\":null},\"mmadsexp\":{\"active\":false,\"assignedVariant\":null},\"mobileshoppingfiltersexp\":{\"active\":false,\"assignedVariant\":null},\"msvrtexp\":{\"active\":true,\"assignedVariant\":\"b\"},\"pa_card_size_experiment_mobile\":{\"active\":false,\"assignedVariant\":null},\"plczjpexp\":{\"active\":false,\"assignedVariant\":null},\"puloverlayexp\":{\"active\":false,\"assignedVariant\":null},\"qfcls\":{\"active\":false,\"assignedVariant\":null},\"related\":{\"active\":false,\"assignedVariant\":null},\"related_click\":{\"active\":false,\"assignedVariant\":null},\"related_done\":{\"active\":false,\"assignedVariant\":null},\"related_requery\":{\"active\":false,\"assignedVariant\":null},\"rspexp2\":{\"active\":false,\"assignedVariant\":null},\"searchbarexp\":{\"active\":true,\"assignedVariant\":\"b\"},\"svpadexp\":{\"active\":false,\"assignedVariant\":null},\"svpamexp\":{\"active\":false,\"assignedVariant\":null},\"text_extensions_exp\":{\"active\":false,\"assignedVariant\":null},\"tjsexp\":{\"active\":false,\"assignedVariant\":null},\"tqcls\":{\"active\":false,\"assignedVariant\":null},\"useclsexp\":{\"active\":false,\"assignedVariant\":null},\"uspoleposexp\":{\"active\":false,\"assignedVariant\":null},\"videxp\":{\"active\":false,\"assignedVariant\":null},\"weatherexp\":{\"active\":true,\"assignedVariant\":\"b\"},\"you_news_verticalexp\":{\"active\":false,\"assignedVariant\":null}}, backendRandomNumbers = {\"ads\":0.0633920538163046};</script><script>var _bootstrapBackendData={\"_region\":\"\",\"bingMarket\":\"en-US\",\"hasExtension\":false,\"hostRegion\":\"eun\",\"isDesktop\":true,\"isMobile\":false,\"showAppleAppStoreAds\":false,\"showAutoAds\":true,\"showCreditCardAds\":true,\"showMultimediaAds\":false,\"showProductAds\":true,\"showTourAds\":true};</script><script>window.__preloadData__={\"apple-ads-ia\":{\"legacy\":[],\"modern\":[]},\"auto-ads-ia\":{\"legacy\":[\"/dist/wpl.auto-ads-ia.f42ce54b43302c61d70b.js\",\"/dist/wpl.auto-ads-ia.f937855ee7e3152e6666.css\"],\"modern\":[\"/dist/wpm.auto-ads-ia.89f2c31e71fca40861eb.js\",\"/dist/wpm.auto-ads-ia.f937855ee7e3152e6666.css\"]},\"computation-ia\":{\"legacy\":[\"/dist/wpl.computation-ia.5b49bd30b7e14240201c.js\"],\"modern\":[\"/dist/wpm.computation-ia.625f600acb006d3ed691.js\"]},\"conversions-ia\":{\"legacy\":[\"/dist/wpl.conversions-ia.992616f9b013fc70f566.js\",\"/dist/wpl.conversions-ia.0aed5a6e343319d82971.css\"],\"modern\":[\"/dist/wpm.conversions-ia.b60b6c74fcee86d479b2.js\",\"/dist/wpm.conversions-ia.0aed5a6e343319d82971.css\"]},\"credit-cards-ia\":{\"legacy\":[\"/dist/wpl.credit-cards-ia.c8903c8505b371668e8c.js\",\"/dist/wpl.credit-cards-ia.fa67230bac966b9b4fc3.css\"],\"modern\":[\"/dist/wpm.credit-cards-ia.46b3f9942c23d6328bd3.js\",\"/dist/wpm.credit-cards-ia.fa67230bac966b9b4fc3.css\"]},\"currency-ia\":{\"legacy\":[\"/dist/wpl.currency-ia.2299317bc9afe98f2f49.js\",\"/dist/wpl.currency-ia.3ae9e6a6733060adffdd.css\"],\"modern\":[\"/dist/wpm.currency-ia.7dff85c61ae65282b788.js\",\"/dist/wpm.currency-ia.3ae9e6a6733060adffdd.css\"]},\"directions-ia\":{\"legacy\":[\"/dist/wpl.directions-ia.fbbc3268178260c03ed7.js\",\"/dist/wpl.directions-ia.cd852a3ab328ef8e38fb.css\"],\"modern\":[\"/dist/wpm.directions-ia.05468fb689bf18f4d9cc.js\",\"/dist/wpm.directions-ia.cd852a3ab328ef8e38fb.css\"]},\"duckassist-ia\":{\"legacy\":[\"/dist/wpl.duckassist-ia.4958a472d04e3c17466d.js\",\"/dist/wpl.duckassist-ia.b153e8e7f50b48ba7162.css\"],\"modern\":[\"/dist/wpm.duckassist-ia.f62762c1a0a85eb9ab28.js\",\"/dist/wpm.duckassist-ia.b153e8e7f50b48ba7162.css\"]},\"duckduckgo-help-ia\":{\"legacy\":[\"/dist/wpl.duckduckgo-help-ia.6b7a2386ab0c7a454680.js\",\"/dist/wpl.duckduckgo-help-ia.e3c30a487b86dc33149a.css\"],\"modern\":[\"/dist/wpm.duckduckgo-help-ia.08bf31f13ea2d8b399c6.js\",\"/dist/wpm.duckduckgo-help-ia.e3c30a487b86dc33149a.css\"]},\"elections-ia\":{\"legacy\":[\"/dist/wpl.elections-ia.6441642acee7bb20ead8.js\",\"/dist/wpl.elections-ia.5d12212fd1a46f6a59a2.css\"],\"modern\":[\"/dist/wpm.elections-ia.62180efa317ba3402d16.js\",\"/dist/wpm.elections-ia.5d12212fd1a46f6a59a2.css\"]},\"expanded-maps-vertical\":{\"legacy\":[\"/dist/wpl.expanded-maps-vertical.157f2ab9ef383cd9368e.js\",\"/dist/wpl.expanded-maps-vertical.8bb79d84450640579340.css\"],\"modern\":[\"/dist/wpm.expanded-maps-vertical.600fd84210d064b77707.js\",\"/dist/wpm.expanded-maps-vertical.8bb79d84450640579340.css\"]},\"forecast-ia\":{\"legacy\":[\"/dist/wpl.forecast-ia.164b8fccc246bf9decee.js\",\"/dist/wpl.forecast-ia.17db7f45618ac001759e.css\"],\"modern\":[\"/dist/wpm.forecast-ia.14b5139983c5eaa7fc43.js\",\"/dist/wpm.forecast-ia.17db7f45618ac001759e.css\"]},\"holiday-ia\":{\"legacy\":[\"/dist/wpl.holiday-ia.70d6de139e8c6057e8fa.js\"],\"modern\":[\"/dist/wpm.holiday-ia.83d0eb0212a7251be0af.js\"]},\"images-ia\":{\"legacy\":[\"/dist/wpl.images-ia.5b5ee3dccb733c501344.js\",\"/dist/wpl.images-ia.34999c4785faf7509168.css\"],\"modern\":[\"/dist/wpm.images-ia.766ccc21842dd75a7b40.js\",\"/dist/wpm.images-ia.34999c4785faf7509168.css\"]},\"maps-maps-ia\":{\"legacy\":[\"/dist/wpl.maps-maps-ia.9150cd14197628b5fb31.js\",\"/dist/wpl.maps-maps-ia.bb7010e173d2d09ce974.css\"],\"modern\":[\"/dist/wpm.maps-maps-ia.39db9d8329ca1c82e061.js\",\"/dist/wpm.maps-maps-ia.bb7010e173d2d09ce974.css\"]},\"maps-places-ia\":{\"legacy\":[\"/dist/wpl.maps-places-ia.758c43b3bab96fc0dc5e.js\",\"/dist/wpl.maps-places-ia.a629d426a36202cc4b40.css\"],\"modern\":[\"/dist/wpm.maps-places-ia.61148a1641c70795cb1b.js\",\"/dist/wpm.maps-places-ia.a629d426a36202cc4b40.css\"]},\"multimedia-ad-ia\":{\"legacy\":[\"/dist/wpl.multimedia-ad-ia.1042b1cd3e57e32ddf53.js\",\"/dist/wpl.multimedia-ad-ia.6fdf4db7a1b70f296dcb.css\"],\"modern\":[\"/dist/wpm.multimedia-ad-ia.374ce965ecebf617be76.js\",\"/dist/wpm.multimedia-ad-ia.6fdf4db7a1b70f296dcb.css\"]},\"news-ia\":{\"legacy\":[\"/dist/wpl.news-ia.8713b4990ad636c4607a.js\",\"/dist/wpl.news-ia.17f666666dc6d031b7e7.css\"],\"modern\":[\"/dist/wpm.news-ia.21bb3325933c0d66e6dd.js\",\"/dist/wpm.news-ia.17f666666dc6d031b7e7.css\"]},\"olympics-ia\":{\"legacy\":[],\"modern\":[]},\"public-holidays-ia\":{\"legacy\":[\"/dist/wpl.public-holidays-ia.b1b55dc87c5b556e4de8.js\"],\"modern\":[\"/dist/wpm.public-holidays-ia.5bcb337bb514b6fb675e.js\"]},\"recipes-ia\":{\"legacy\":[\"/dist/wpl.recipes-ia.e64dab99653b8d7472ce.js\",\"/dist/wpl.recipes-ia.37143b39f339a12b065b.css\"],\"modern\":[\"/dist/wpm.recipes-ia.8807a452fdc0a8eb1385.js\",\"/dist/wpm.recipes-ia.37143b39f339a12b065b.css\"]},\"sports-ia\":{\"legacy\":[\"/dist/wpl.sports-ia.1a4d0e7bbc376fcfb5ce.js\",\"/dist/wpl.sports-ia.85d5c5e3e852ceaf4abb.css\"],\"modern\":[\"/dist/wpm.sports-ia.b713fe861f74c46b4ab0.js\",\"/dist/wpm.sports-ia.85d5c5e3e852ceaf4abb.css\"]},\"titles-ia\":{\"legacy\":[\"/dist/wpl.titles-ia.6260798cbc776a641acf.js\",\"/dist/wpl.titles-ia.0232af0407026d7fd06b.css\"],\"modern\":[\"/dist/wpm.titles-ia.18dd95f083c3ffc6676f.js\",\"/dist/wpm.titles-ia.0232af0407026d7fd06b.css\"]},\"tour-ads-ia\":{\"legacy\":[],\"modern\":[]},\"videos-ia\":{\"legacy\":[\"/dist/wpl.videos-ia.df9a19a136ac76b4f2a9.js\",\"/dist/wpl.videos-ia.ac088a28df1ee04507bf.css\"],\"modern\":[\"/dist/wpm.videos-ia.5f6dba1da6a56e2f25ac.js\",\"/dist/wpm.videos-ia.ac088a28df1ee04507bf.css\"]},\"where-to-watch-ia\":{\"legacy\":[\"/dist/wpl.where-to-watch-ia.1e4cec1e99a99bb9a013.js\",\"/dist/wpl.where-to-watch-ia.93c9859a50b0a1f22a90.css\"],\"modern\":[\"/dist/wpm.where-to-watch-ia.04a68bcf1f271d164c95.js\",\"/dist/wpm.where-to-watch-ia.93c9859a50b0a1f22a90.css\"]}};</script><script type=\"module\">window.supportsModule=true;</script><script nomodule>if(window.supportsModule!==true){window.supportsModule=false;}</script><script>window.__indexPayload__={instantAnswers:[]};</script><script>window.__initialSearchFormData__={\"display_query\":\"altocumulus clouds\",\"fields\":{\"direxp\":null,\"log\":\"\",\"requery\":null,\"sltexp\":null,\"u\":\"\",\"up\":\"\",\"v\":null}};</script><script src=\"/dist/b.8f5611e1ef7863c576d5.js\" onerror=\"handleScriptError(this)\"></script></head><body class=\"body--serp  \"><input id=\"state_hidden\" name=\"state_hidden\" type=\"text\" size=\"1\"><!-- Ignore this input please --><div id=\"spacing_hidden_wrapper\"><div id=\"spacing_hidden\"></div></div><script type=\"text/javascript\" src=\"/dist/lib/l.32113981e35aa54fc221.js\" onerror=\"handleScriptError(this)\"></script><script type=\"text/javascript\" src=\"/dist/locale/en_US.f93dff18c5abfc9b88c955edecef24a9.js\" onerror=\"handleScriptError(this)\"></script><script type=\"text/javascript\" src=\"/dist/util/u.968cf301d7f919ba0f33.js\" onerror=\"handleScriptError(this)\"></script><script>!function(e,t,n){!(\"noModule\"in(t=e.createElement(\"script\")))&&\"onbeforeload\"in t&&(n=!1,e.addEventListener(\"beforeload\",function(e){if(e.target===t)n=!0;else if(!e.target.hasAttribute(\"nomodule\")||!n)return;e.preventDefault()},!0),t.type=\"module\",t.src=\".\",e.head.appendChild(t),t.remove())}(document)</script><script src=\"/dist/wpmv.9f63b2c7f5cd4ff8f005.js\" type=\"module\" onerror=\"handleScriptError(this)\"></script><script src=\"/dist/wpm.main.a0c744e58b0d1d6b4338.js\" type=\"module\" onerror=\"handleScriptError(this)\"></script><script src=\"/dist/wplv.70b4941571817d02ba46.js\" nomodule defer onerror=\"handleScriptError(this)\"></script><script src=\"/dist/wpl.main.069a416a54e472723e98.js\" nomodule defer onerror=\"handleScriptError(this)\"></script><script type=\"text/javascript\" src=\"/dist/d.04b4e7e22ea46ced018d.js\" onerror=\"handleScriptError(this)\"></script><div class=\"site-wrapper  js-site-wrapper\"><div class=\"welcome-wrap js-welcome-wrap\"></div><div id=\"header_wrapper\" data-testid=\"header\" class=\"header-wrap js-header-wrap ai-header-exp\"><div id=\"header\" class=\"header  cw\"><div id=\"header-non-nav\" class=\"header__shrink-beyond-min-size\"><div class=\"header__search-wrap\">\\n                    <a id=\"header-logo-wrapper\" tabindex=\"-1\" href=\"/?t=h_\" class=\"header__logo-wrap js-header-logo\" data-testid=\"header-logo\">\\n                        <span class=\"header__logo js-logo-ddg\" data-dynamic-logo=\"\">DuckDuckGo</span>\\n                    </a>\\n                <div class=\"header__content  header__search\"><div id=\"react-search-form\"></div></div></div><div class=\"header--aside js-header-aside\"><div id=\"react-ai-button-slot\"></div></div></div><div id=\"react-duckbar\" data-testid=\"duckbar\"></div></div></div><div id=\"react-browser-update-info\"></div><div id=\"zero_click_wrapper\" class=\"zci-wrap\"><div id=\"react-root-zci\"></div></div><div id=\"vertical_wrapper\" class=\"verticals\"></div><div id=\"web_content_wrapper\" class=\"content-wrap\" data-hide-untill-css-vars-polyfilled=\"true\"><div class=\"serp__top-right  js-serp-top-right\"></div><div class=\"serp__bottom-right  js-serp-bottom-right\"><div class=\"js-feedback-btn-wrap\"></div></div><div data-testid=\"mainline\" class=\"results--main\"><noscript><meta http-equiv=\"refresh\" content=\"0;URL=/html?q=altocumulus%20clouds\"><link href=\"/css/noscript.css\" rel=\"stylesheet\" type=\"text/css\"><div class=\"msg msg--noscript\"><p class=\"msg-title--noscript\">You are being redirected to the non-JavaScript site.</p>Click <a href=\"/html/?q=altocumulus%20clouds\">here</a> if it doesn\\'t happen automatically.</div></noscript></div><div id=\"react-layout\"></div></div><div id=\"bottom_spacing2\"> </div></div><script type=\"text/javascript\"></script><script type=\"text/JavaScript\">function nrji() {nrj(\\'/t.js?q=altocumulus%20clouds&l=us-en&s=0&dl=en&ct=FR&bing_market=en-US&p_ent=&ex=-1&dp=-yE2QrqZLq9UvYVGHREjflWsVGB6TawfpFAAKZb5DbyzpufV538LmMWkIvQP1lKmcjcQzqn5b8AIn1_oW7cuEmul90bR4VQF8MgbnxAfXVTMrQ_oasFJbLbdXqJknPIOuBIDyhdiQMpPVArGgTBemw.cxwzXo1ABHi4C7mDmAijGA&perf_id=a94e92ccce3bf3d4&parent_perf_id=9ba4457f7d3d7d6a&host_region=eun&dfrsp=1&baa=1&bcca=1&btaa=1&aps=0\\');DDG.deep.initialize(\\'/d.js?q=altocumulus%20clouds&l=us-en&s=0&a=h_&dl=en&ct=FR&bing_market=en-US&p_ent=&ex=-1&dp=-yE2QrqZLq9UvYVGHREjflWsVGB6TawfpFAAKZb5DbyzpufV538LmMWkIvQP1lKmcjcQzqn5b8AIn1_oW7cuEmul90bR4VQF8MgbnxAfXVTMrQ_oasFJbLbdXqJknPIOuBIDyhdiQMpPVArGgTBemw.cxwzXo1ABHi4C7mDmAijGA&perf_id=a94e92ccce3bf3d4&parent_perf_id=9ba4457f7d3d7d6a&host_region=eun&sp=1&dfrsp=1&baa=1&bcca=1&bpa=1&btaa=1&wrap=1&aps=0\\', true);;};DDG.ready(nrji, 1);</script><script src=\"/dist/g.33faa415b694a90dce9a.js\" onerror=\"handleScriptError(this)\"></script><script type=\"text/javascript\">DDG.page = new DDG.Pages.SERP({ showSafeSearch: 0, instantAnswerAds: false, hostRegion: \"eun\" });</script><div id=\"z2\"> </div><div id=\"z\"></div></body></html><script type=\"text/JavaScript\">DDG.index = DDG.index || {}; DDG.index.signalSummary = \"\";</script><script>DDG.deep.anomalyDetectionBlock({gk:\\'d4cd0dabcf4caa22ad92fab40844c786\\',q:\\'altocumulus%20clouds\\',iadb:1,sc:1,e:0,p:\\'b467442d6baf4f2681ece7b194f423ec-9cfc38f6a7454227b730ee8c69dacd0b-75ec67afb7024083a57bc04a4dc2fc0e-afa769e02107421bbb1ffe7467932eb1-2016dfd648594ed283018b71e9f1d02f-51f86f8f3efa42048c9fd4a42cbcd66d-e8b9cf09f1984bb4a49ea20f9c73bef1-b41bd0ef5bd24f7696d8716664fc3e3c-f995a278bd4a46c2a890ae835ece5195\\',cc:\\'sre\\',o:\\'aY7PaPxim598Dq1eb9jB%2BBecx2V2fVb2Ynov1dbONrkaN0f5wQoyra%2FmLhRAEP4j%0A\\',er:\\'\\',s:\\'index\\', r:\\'eun\\'})</script>'"
      ]
     },
     "execution_count": 5,
     "metadata": {},
     "output_type": "execute_result"
    }
   ],
   "source": [
    "html = response.content\n",
    "html"
   ]
  },
  {
   "cell_type": "code",
   "execution_count": 6,
   "id": "2a62ecea",
   "metadata": {},
   "outputs": [],
   "source": [
    "soup = bs(html, \"html.parser\")"
   ]
  },
  {
   "cell_type": "code",
   "execution_count": 7,
   "id": "f7bb7ff2",
   "metadata": {},
   "outputs": [
    {
     "data": {
      "text/plain": [
       "<!DOCTYPE html>\n",
       "<html class=\"no-js has-zcm no-theme is-link-style-exp is-link-order-exp is-link-breadcrumb-exp is-related-search-exp is-vertical-tabs-exp\" lang=\"en-US\"><head><meta content=\"DuckDuckGo. Privacy, Simplified.\" name=\"description\"/><meta content=\"text/html; charset=utf-8\" http-equiv=\"content-type\"/><title>altocumulus clouds at DuckDuckGo</title><meta content=\"app-id=663592361, app-argument=https://duckduckgo.com/?q=altocumulus+clouds&amp;t=h_&amp;iax=images&amp;ia=images&amp;smartbanner=1\" name=\"apple-itunes-app\"/><link href=\"/dist/s.27f5ee0a705a2c7a4228.css\" rel=\"stylesheet\" type=\"text/css\"/><link href=\"/dist/r.b5bdfacdd5d026b46388.css\" rel=\"stylesheet\" type=\"text/css\"/><link data-handle-css-custom-properties=\"true\" href=\"/dist/wpl.main.0285490bc835b4bdcbd7.css\" rel=\"stylesheet\" type=\"text/css\"/><link data-handle-css-custom-properties=\"true\" href=\"/dist/wpl.vendors.f96ec62b8a9c623d21f2.css\" rel=\"stylesheet\" type=\"text/css\"/><meta content=\"noindex,nofollow\" name=\"robots\"/><meta content=\"origin\" name=\"referrer\"/><meta content=\"altocumulus clouds\" name=\"apple-mobile-web-app-title\"/><link href=\"https://links.duckduckgo.com\" rel=\"preconnect\"/><link as=\"font\" crossorigin=\"anonymous\" href=\"/font/ProximaNova-Reg-webfont.woff2\" rel=\"preload\" type=\"font/woff2\"><link as=\"font\" crossorigin=\"anonymous\" href=\"/font/ProximaNova-Sbold-webfont.woff2\" rel=\"preload\" type=\"font/woff2\"><link href=\"/favicon.ico\" rel=\"shortcut icon\" type=\"image/x-icon\"><link href=\"/assets/icons/meta/DDG-iOS-icon_60x60.png?v=2\" id=\"icon60\" rel=\"apple-touch-icon\"><link href=\"/assets/icons/meta/DDG-iOS-icon_76x76.png?v=2\" id=\"icon76\" rel=\"apple-touch-icon\" sizes=\"76x76\"><link href=\"/assets/icons/meta/DDG-iOS-icon_120x120.png?v=2\" id=\"icon120\" rel=\"apple-touch-icon\" sizes=\"120x120\"/><link href=\"/assets/icons/meta/DDG-iOS-icon_152x152.png?v=2\" id=\"icon152\" rel=\"apple-touch-icon\" sizes=\"152x152\"/><link href=\"/assets/icons/meta/DDG-icon_256x256.png\" rel=\"image_src\"/><script type=\"text/javascript\">var dc_enabled=1,dc_iu=false,dc_pp=false,baseLinkUrl=\"links.duckduckgo.com\",baseLinkEnvName=\"prod\",testTrafficType=0,rpl=\"1\",fq=0,fd=1,it=0,iqa=0,iqbi=0,iqm=0,iqs=0,iqp=0,iqq=0,qw=2,dl=\"en\",ct=\"FR\",iqd=0,r1hc=0,r1c=0,r2c,r3c=0,rq=\"altocumulus%20clouds\",rqd=\"altocumulus clouds\",rfq=0,rt=\"\",ra=\"h_\",rv=\"\",rad=\"\",rds=30,rs=0,spice_version=\"2000\",spice_paths=\"{}\",locale=\"en_US\",settings_url_params={},rl=\"us-en\",shfl=1,shrl=\"fr-fr\",rlo=0,df=\"\",ds=\"\",sfq=\"\",iar=\"\",vqd=\"4-134034976749606216716467159186432892292\",safe_ddg=0,show_covid=0,perf_id=\"a94e92ccce3bf3d4\",parent_perf_id=\"9ba4457f7d3d7d6a\",ti,tig,y,y1,didNotLoadScripts=[],__DDG_BE_VERSION__=\"serp_20250803_131450_ET\",__DDG_FE_CHAT_HASH__=\"57446f2bf99bcbea6353\";function handleScriptError(el) { if (el && el.getAttribute) { window.didNotLoadScripts.push(el.getAttribute('src')); }}</script><meta content=\"width=device-width, initial-scale=1\" name=\"viewport\"><meta content=\"true\" name=\"HandheldFriendly\"><meta content=\"no\" name=\"apple-mobile-web-app-capable\"><script>var backendExperimentAssignments = {\"3adexp\":{\"active\":false,\"assignedVariant\":null},\"aaspuexp\":{\"active\":false,\"assignedVariant\":null},\"adimprexp\":{\"active\":true,\"assignedVariant\":\"b\"},\"aiheaderexp\":{\"active\":true,\"assignedVariant\":\"b\"},\"bccaexp\":{\"active\":true,\"assignedVariant\":\"b\"},\"biaexp\":{\"active\":true,\"assignedVariant\":\"b\"},\"binexp\":{\"active\":false,\"assignedVariant\":null},\"btaaexp\":{\"active\":true,\"assignedVariant\":\"b\"},\"defaultfontexpbe\":{\"active\":false,\"assignedVariant\":null},\"eclsexp\":{\"active\":true,\"assignedVariant\":\"b\"},\"headexp\":{\"active\":false,\"assignedVariant\":null},\"litexp\":{\"active\":true,\"assignedVariant\":\"a\"},\"mcnavexp\":{\"active\":false,\"assignedVariant\":null},\"mmadsexp\":{\"active\":false,\"assignedVariant\":null},\"mobileshoppingfiltersexp\":{\"active\":false,\"assignedVariant\":null},\"msvrtexp\":{\"active\":true,\"assignedVariant\":\"b\"},\"pa_card_size_experiment_mobile\":{\"active\":false,\"assignedVariant\":null},\"plczjpexp\":{\"active\":false,\"assignedVariant\":null},\"puloverlayexp\":{\"active\":false,\"assignedVariant\":null},\"qfcls\":{\"active\":false,\"assignedVariant\":null},\"related\":{\"active\":false,\"assignedVariant\":null},\"related_click\":{\"active\":false,\"assignedVariant\":null},\"related_done\":{\"active\":false,\"assignedVariant\":null},\"related_requery\":{\"active\":false,\"assignedVariant\":null},\"rspexp2\":{\"active\":false,\"assignedVariant\":null},\"searchbarexp\":{\"active\":true,\"assignedVariant\":\"b\"},\"svpadexp\":{\"active\":false,\"assignedVariant\":null},\"svpamexp\":{\"active\":false,\"assignedVariant\":null},\"text_extensions_exp\":{\"active\":false,\"assignedVariant\":null},\"tjsexp\":{\"active\":false,\"assignedVariant\":null},\"tqcls\":{\"active\":false,\"assignedVariant\":null},\"useclsexp\":{\"active\":false,\"assignedVariant\":null},\"uspoleposexp\":{\"active\":false,\"assignedVariant\":null},\"videxp\":{\"active\":false,\"assignedVariant\":null},\"weatherexp\":{\"active\":true,\"assignedVariant\":\"b\"},\"you_news_verticalexp\":{\"active\":false,\"assignedVariant\":null}}, backendRandomNumbers = {\"ads\":0.0633920538163046};</script><script>var _bootstrapBackendData={\"_region\":\"\",\"bingMarket\":\"en-US\",\"hasExtension\":false,\"hostRegion\":\"eun\",\"isDesktop\":true,\"isMobile\":false,\"showAppleAppStoreAds\":false,\"showAutoAds\":true,\"showCreditCardAds\":true,\"showMultimediaAds\":false,\"showProductAds\":true,\"showTourAds\":true};</script><script>window.__preloadData__={\"apple-ads-ia\":{\"legacy\":[],\"modern\":[]},\"auto-ads-ia\":{\"legacy\":[\"/dist/wpl.auto-ads-ia.f42ce54b43302c61d70b.js\",\"/dist/wpl.auto-ads-ia.f937855ee7e3152e6666.css\"],\"modern\":[\"/dist/wpm.auto-ads-ia.89f2c31e71fca40861eb.js\",\"/dist/wpm.auto-ads-ia.f937855ee7e3152e6666.css\"]},\"computation-ia\":{\"legacy\":[\"/dist/wpl.computation-ia.5b49bd30b7e14240201c.js\"],\"modern\":[\"/dist/wpm.computation-ia.625f600acb006d3ed691.js\"]},\"conversions-ia\":{\"legacy\":[\"/dist/wpl.conversions-ia.992616f9b013fc70f566.js\",\"/dist/wpl.conversions-ia.0aed5a6e343319d82971.css\"],\"modern\":[\"/dist/wpm.conversions-ia.b60b6c74fcee86d479b2.js\",\"/dist/wpm.conversions-ia.0aed5a6e343319d82971.css\"]},\"credit-cards-ia\":{\"legacy\":[\"/dist/wpl.credit-cards-ia.c8903c8505b371668e8c.js\",\"/dist/wpl.credit-cards-ia.fa67230bac966b9b4fc3.css\"],\"modern\":[\"/dist/wpm.credit-cards-ia.46b3f9942c23d6328bd3.js\",\"/dist/wpm.credit-cards-ia.fa67230bac966b9b4fc3.css\"]},\"currency-ia\":{\"legacy\":[\"/dist/wpl.currency-ia.2299317bc9afe98f2f49.js\",\"/dist/wpl.currency-ia.3ae9e6a6733060adffdd.css\"],\"modern\":[\"/dist/wpm.currency-ia.7dff85c61ae65282b788.js\",\"/dist/wpm.currency-ia.3ae9e6a6733060adffdd.css\"]},\"directions-ia\":{\"legacy\":[\"/dist/wpl.directions-ia.fbbc3268178260c03ed7.js\",\"/dist/wpl.directions-ia.cd852a3ab328ef8e38fb.css\"],\"modern\":[\"/dist/wpm.directions-ia.05468fb689bf18f4d9cc.js\",\"/dist/wpm.directions-ia.cd852a3ab328ef8e38fb.css\"]},\"duckassist-ia\":{\"legacy\":[\"/dist/wpl.duckassist-ia.4958a472d04e3c17466d.js\",\"/dist/wpl.duckassist-ia.b153e8e7f50b48ba7162.css\"],\"modern\":[\"/dist/wpm.duckassist-ia.f62762c1a0a85eb9ab28.js\",\"/dist/wpm.duckassist-ia.b153e8e7f50b48ba7162.css\"]},\"duckduckgo-help-ia\":{\"legacy\":[\"/dist/wpl.duckduckgo-help-ia.6b7a2386ab0c7a454680.js\",\"/dist/wpl.duckduckgo-help-ia.e3c30a487b86dc33149a.css\"],\"modern\":[\"/dist/wpm.duckduckgo-help-ia.08bf31f13ea2d8b399c6.js\",\"/dist/wpm.duckduckgo-help-ia.e3c30a487b86dc33149a.css\"]},\"elections-ia\":{\"legacy\":[\"/dist/wpl.elections-ia.6441642acee7bb20ead8.js\",\"/dist/wpl.elections-ia.5d12212fd1a46f6a59a2.css\"],\"modern\":[\"/dist/wpm.elections-ia.62180efa317ba3402d16.js\",\"/dist/wpm.elections-ia.5d12212fd1a46f6a59a2.css\"]},\"expanded-maps-vertical\":{\"legacy\":[\"/dist/wpl.expanded-maps-vertical.157f2ab9ef383cd9368e.js\",\"/dist/wpl.expanded-maps-vertical.8bb79d84450640579340.css\"],\"modern\":[\"/dist/wpm.expanded-maps-vertical.600fd84210d064b77707.js\",\"/dist/wpm.expanded-maps-vertical.8bb79d84450640579340.css\"]},\"forecast-ia\":{\"legacy\":[\"/dist/wpl.forecast-ia.164b8fccc246bf9decee.js\",\"/dist/wpl.forecast-ia.17db7f45618ac001759e.css\"],\"modern\":[\"/dist/wpm.forecast-ia.14b5139983c5eaa7fc43.js\",\"/dist/wpm.forecast-ia.17db7f45618ac001759e.css\"]},\"holiday-ia\":{\"legacy\":[\"/dist/wpl.holiday-ia.70d6de139e8c6057e8fa.js\"],\"modern\":[\"/dist/wpm.holiday-ia.83d0eb0212a7251be0af.js\"]},\"images-ia\":{\"legacy\":[\"/dist/wpl.images-ia.5b5ee3dccb733c501344.js\",\"/dist/wpl.images-ia.34999c4785faf7509168.css\"],\"modern\":[\"/dist/wpm.images-ia.766ccc21842dd75a7b40.js\",\"/dist/wpm.images-ia.34999c4785faf7509168.css\"]},\"maps-maps-ia\":{\"legacy\":[\"/dist/wpl.maps-maps-ia.9150cd14197628b5fb31.js\",\"/dist/wpl.maps-maps-ia.bb7010e173d2d09ce974.css\"],\"modern\":[\"/dist/wpm.maps-maps-ia.39db9d8329ca1c82e061.js\",\"/dist/wpm.maps-maps-ia.bb7010e173d2d09ce974.css\"]},\"maps-places-ia\":{\"legacy\":[\"/dist/wpl.maps-places-ia.758c43b3bab96fc0dc5e.js\",\"/dist/wpl.maps-places-ia.a629d426a36202cc4b40.css\"],\"modern\":[\"/dist/wpm.maps-places-ia.61148a1641c70795cb1b.js\",\"/dist/wpm.maps-places-ia.a629d426a36202cc4b40.css\"]},\"multimedia-ad-ia\":{\"legacy\":[\"/dist/wpl.multimedia-ad-ia.1042b1cd3e57e32ddf53.js\",\"/dist/wpl.multimedia-ad-ia.6fdf4db7a1b70f296dcb.css\"],\"modern\":[\"/dist/wpm.multimedia-ad-ia.374ce965ecebf617be76.js\",\"/dist/wpm.multimedia-ad-ia.6fdf4db7a1b70f296dcb.css\"]},\"news-ia\":{\"legacy\":[\"/dist/wpl.news-ia.8713b4990ad636c4607a.js\",\"/dist/wpl.news-ia.17f666666dc6d031b7e7.css\"],\"modern\":[\"/dist/wpm.news-ia.21bb3325933c0d66e6dd.js\",\"/dist/wpm.news-ia.17f666666dc6d031b7e7.css\"]},\"olympics-ia\":{\"legacy\":[],\"modern\":[]},\"public-holidays-ia\":{\"legacy\":[\"/dist/wpl.public-holidays-ia.b1b55dc87c5b556e4de8.js\"],\"modern\":[\"/dist/wpm.public-holidays-ia.5bcb337bb514b6fb675e.js\"]},\"recipes-ia\":{\"legacy\":[\"/dist/wpl.recipes-ia.e64dab99653b8d7472ce.js\",\"/dist/wpl.recipes-ia.37143b39f339a12b065b.css\"],\"modern\":[\"/dist/wpm.recipes-ia.8807a452fdc0a8eb1385.js\",\"/dist/wpm.recipes-ia.37143b39f339a12b065b.css\"]},\"sports-ia\":{\"legacy\":[\"/dist/wpl.sports-ia.1a4d0e7bbc376fcfb5ce.js\",\"/dist/wpl.sports-ia.85d5c5e3e852ceaf4abb.css\"],\"modern\":[\"/dist/wpm.sports-ia.b713fe861f74c46b4ab0.js\",\"/dist/wpm.sports-ia.85d5c5e3e852ceaf4abb.css\"]},\"titles-ia\":{\"legacy\":[\"/dist/wpl.titles-ia.6260798cbc776a641acf.js\",\"/dist/wpl.titles-ia.0232af0407026d7fd06b.css\"],\"modern\":[\"/dist/wpm.titles-ia.18dd95f083c3ffc6676f.js\",\"/dist/wpm.titles-ia.0232af0407026d7fd06b.css\"]},\"tour-ads-ia\":{\"legacy\":[],\"modern\":[]},\"videos-ia\":{\"legacy\":[\"/dist/wpl.videos-ia.df9a19a136ac76b4f2a9.js\",\"/dist/wpl.videos-ia.ac088a28df1ee04507bf.css\"],\"modern\":[\"/dist/wpm.videos-ia.5f6dba1da6a56e2f25ac.js\",\"/dist/wpm.videos-ia.ac088a28df1ee04507bf.css\"]},\"where-to-watch-ia\":{\"legacy\":[\"/dist/wpl.where-to-watch-ia.1e4cec1e99a99bb9a013.js\",\"/dist/wpl.where-to-watch-ia.93c9859a50b0a1f22a90.css\"],\"modern\":[\"/dist/wpm.where-to-watch-ia.04a68bcf1f271d164c95.js\",\"/dist/wpm.where-to-watch-ia.93c9859a50b0a1f22a90.css\"]}};</script><script type=\"module\">window.supportsModule=true;</script><script nomodule=\"\">if(window.supportsModule!==true){window.supportsModule=false;}</script><script>window.__indexPayload__={instantAnswers:[]};</script><script>window.__initialSearchFormData__={\"display_query\":\"altocumulus clouds\",\"fields\":{\"direxp\":null,\"log\":\"\",\"requery\":null,\"sltexp\":null,\"u\":\"\",\"up\":\"\",\"v\":null}};</script><script onerror=\"handleScriptError(this)\" src=\"/dist/b.8f5611e1ef7863c576d5.js\"></script></meta></meta></meta></link></link></link></link></link></head><body class=\"body--serp\"><input id=\"state_hidden\" name=\"state_hidden\" size=\"1\" type=\"text\"/><!-- Ignore this input please --><div id=\"spacing_hidden_wrapper\"><div id=\"spacing_hidden\"></div></div><script onerror=\"handleScriptError(this)\" src=\"/dist/lib/l.32113981e35aa54fc221.js\" type=\"text/javascript\"></script><script onerror=\"handleScriptError(this)\" src=\"/dist/locale/en_US.f93dff18c5abfc9b88c955edecef24a9.js\" type=\"text/javascript\"></script><script onerror=\"handleScriptError(this)\" src=\"/dist/util/u.968cf301d7f919ba0f33.js\" type=\"text/javascript\"></script><script>!function(e,t,n){!(\"noModule\"in(t=e.createElement(\"script\")))&&\"onbeforeload\"in t&&(n=!1,e.addEventListener(\"beforeload\",function(e){if(e.target===t)n=!0;else if(!e.target.hasAttribute(\"nomodule\")||!n)return;e.preventDefault()},!0),t.type=\"module\",t.src=\".\",e.head.appendChild(t),t.remove())}(document)</script><script onerror=\"handleScriptError(this)\" src=\"/dist/wpmv.9f63b2c7f5cd4ff8f005.js\" type=\"module\"></script><script onerror=\"handleScriptError(this)\" src=\"/dist/wpm.main.a0c744e58b0d1d6b4338.js\" type=\"module\"></script><script defer=\"\" nomodule=\"\" onerror=\"handleScriptError(this)\" src=\"/dist/wplv.70b4941571817d02ba46.js\"></script><script defer=\"\" nomodule=\"\" onerror=\"handleScriptError(this)\" src=\"/dist/wpl.main.069a416a54e472723e98.js\"></script><script onerror=\"handleScriptError(this)\" src=\"/dist/d.04b4e7e22ea46ced018d.js\" type=\"text/javascript\"></script><div class=\"site-wrapper js-site-wrapper\"><div class=\"welcome-wrap js-welcome-wrap\"></div><div class=\"header-wrap js-header-wrap ai-header-exp\" data-testid=\"header\" id=\"header_wrapper\"><div class=\"header cw\" id=\"header\"><div class=\"header__shrink-beyond-min-size\" id=\"header-non-nav\"><div class=\"header__search-wrap\">\n",
       "<a class=\"header__logo-wrap js-header-logo\" data-testid=\"header-logo\" href=\"/?t=h_\" id=\"header-logo-wrapper\" tabindex=\"-1\">\n",
       "<span class=\"header__logo js-logo-ddg\" data-dynamic-logo=\"\">DuckDuckGo</span>\n",
       "</a>\n",
       "<div class=\"header__content header__search\"><div id=\"react-search-form\"></div></div></div><div class=\"header--aside js-header-aside\"><div id=\"react-ai-button-slot\"></div></div></div><div data-testid=\"duckbar\" id=\"react-duckbar\"></div></div></div><div id=\"react-browser-update-info\"></div><div class=\"zci-wrap\" id=\"zero_click_wrapper\"><div id=\"react-root-zci\"></div></div><div class=\"verticals\" id=\"vertical_wrapper\"></div><div class=\"content-wrap\" data-hide-untill-css-vars-polyfilled=\"true\" id=\"web_content_wrapper\"><div class=\"serp__top-right js-serp-top-right\"></div><div class=\"serp__bottom-right js-serp-bottom-right\"><div class=\"js-feedback-btn-wrap\"></div></div><div class=\"results--main\" data-testid=\"mainline\"><noscript><meta content=\"0;URL=/html?q=altocumulus%20clouds\" http-equiv=\"refresh\"/><link href=\"/css/noscript.css\" rel=\"stylesheet\" type=\"text/css\"/><div class=\"msg msg--noscript\"><p class=\"msg-title--noscript\">You are being redirected to the non-JavaScript site.</p>Click <a href=\"/html/?q=altocumulus%20clouds\">here</a> if it doesn't happen automatically.</div></noscript></div><div id=\"react-layout\"></div></div><div id=\"bottom_spacing2\"> </div></div><script type=\"text/javascript\"></script><script type=\"text/JavaScript\">function nrji() {nrj('/t.js?q=altocumulus%20clouds&l=us-en&s=0&dl=en&ct=FR&bing_market=en-US&p_ent=&ex=-1&dp=-yE2QrqZLq9UvYVGHREjflWsVGB6TawfpFAAKZb5DbyzpufV538LmMWkIvQP1lKmcjcQzqn5b8AIn1_oW7cuEmul90bR4VQF8MgbnxAfXVTMrQ_oasFJbLbdXqJknPIOuBIDyhdiQMpPVArGgTBemw.cxwzXo1ABHi4C7mDmAijGA&perf_id=a94e92ccce3bf3d4&parent_perf_id=9ba4457f7d3d7d6a&host_region=eun&dfrsp=1&baa=1&bcca=1&btaa=1&aps=0');DDG.deep.initialize('/d.js?q=altocumulus%20clouds&l=us-en&s=0&a=h_&dl=en&ct=FR&bing_market=en-US&p_ent=&ex=-1&dp=-yE2QrqZLq9UvYVGHREjflWsVGB6TawfpFAAKZb5DbyzpufV538LmMWkIvQP1lKmcjcQzqn5b8AIn1_oW7cuEmul90bR4VQF8MgbnxAfXVTMrQ_oasFJbLbdXqJknPIOuBIDyhdiQMpPVArGgTBemw.cxwzXo1ABHi4C7mDmAijGA&perf_id=a94e92ccce3bf3d4&parent_perf_id=9ba4457f7d3d7d6a&host_region=eun&sp=1&dfrsp=1&baa=1&bcca=1&bpa=1&btaa=1&wrap=1&aps=0', true);;};DDG.ready(nrji, 1);</script><script onerror=\"handleScriptError(this)\" src=\"/dist/g.33faa415b694a90dce9a.js\"></script><script type=\"text/javascript\">DDG.page = new DDG.Pages.SERP({ showSafeSearch: 0, instantAnswerAds: false, hostRegion: \"eun\" });</script><div id=\"z2\"> </div><div id=\"z\"></div></body></html><script type=\"text/JavaScript\">DDG.index = DDG.index || {}; DDG.index.signalSummary = \"\";</script><script>DDG.deep.anomalyDetectionBlock({gk:'d4cd0dabcf4caa22ad92fab40844c786',q:'altocumulus%20clouds',iadb:1,sc:1,e:0,p:'b467442d6baf4f2681ece7b194f423ec-9cfc38f6a7454227b730ee8c69dacd0b-75ec67afb7024083a57bc04a4dc2fc0e-afa769e02107421bbb1ffe7467932eb1-2016dfd648594ed283018b71e9f1d02f-51f86f8f3efa42048c9fd4a42cbcd66d-e8b9cf09f1984bb4a49ea20f9c73bef1-b41bd0ef5bd24f7696d8716664fc3e3c-f995a278bd4a46c2a890ae835ece5195',cc:'sre',o:'aY7PaPxim598Dq1eb9jB%2BBecx2V2fVb2Ynov1dbONrkaN0f5wQoyra%2FmLhRAEP4j%0A',er:'',s:'index', r:'eun'})</script>"
      ]
     },
     "execution_count": 7,
     "metadata": {},
     "output_type": "execute_result"
    }
   ],
   "source": [
    "soup"
   ]
  },
  {
   "cell_type": "code",
   "execution_count": 8,
   "id": "e116978c",
   "metadata": {},
   "outputs": [
    {
     "data": {
      "text/plain": [
       "'altocumulus clouds at DuckDuckGo'"
      ]
     },
     "execution_count": 8,
     "metadata": {},
     "output_type": "execute_result"
    }
   ],
   "source": [
    "soup.title.get_text()"
   ]
  },
  {
   "cell_type": "code",
   "execution_count": 9,
   "id": "155fbe84",
   "metadata": {},
   "outputs": [
    {
     "data": {
      "text/plain": [
       "[]"
      ]
     },
     "execution_count": 9,
     "metadata": {},
     "output_type": "execute_result"
    }
   ],
   "source": [
    "soup.find_all(\"img\")"
   ]
  },
  {
   "cell_type": "code",
   "execution_count": 10,
   "id": "bfae4b5b",
   "metadata": {},
   "outputs": [
    {
     "data": {
      "text/plain": [
       "[['altocumulus clouds']]"
      ]
     },
     "execution_count": 10,
     "metadata": {},
     "output_type": "execute_result"
    }
   ],
   "source": [
    "[SEARCH_QUERIES]"
   ]
  },
  {
   "cell_type": "code",
   "execution_count": 11,
   "id": "8533eef9",
   "metadata": {},
   "outputs": [],
   "source": [
    "def search_images(query: str, max_images: int = 10, search_engine: str = \"bing\") -> list[str]:\n",
    "    \"\"\"\n",
    "    Search for images using the specified search engine and return a list of image URLs.\n",
    "\n",
    "    Args:\n",
    "        query (str): The search query for images.\n",
    "        max_images (int): The maximum number of image URLs to return.\n",
    "        search_engine (str): The search engine to use ('bing' is currently supported).\n",
    "\n",
    "    Returns:\n",
    "        list[str]: A list of image URLs.\n",
    "    \"\"\"\n",
    "    headers = {\"User-Agent\": \"Mozilla/5.0\"}\n",
    "    if isinstance(query, str):\n",
    "        query = [query]\n",
    "\n",
    "    image_urls = []\n",
    "    for i, q in enumerate(query):\n",
    "\n",
    "        q = q.replace(\" \", \"+\")\n",
    "\n",
    "        urls = {\n",
    "            \"bing\": f\"https://www.bing.com/images/search?q={q}\",\n",
    "        }\n",
    "\n",
    "        classes = {\n",
    "            \"bing\": \"iusc\",\n",
    "        }\n",
    "\n",
    "        response = requests.get(urls[search_engine], headers=headers)\n",
    "        soup = bs(response.text, \"html.parser\")\n",
    "\n",
    "        images_elements = soup.find_all(\"a\", class_=classes[search_engine])\n",
    "\n",
    "        for img in images_elements:\n",
    "            m_json = img.get(\"m\")\n",
    "            if m_json:\n",
    "                try:\n",
    "                    import json\n",
    "                    m_data = json.loads(m_json)\n",
    "                    image_urls.append(m_data[\"murl\"])\n",
    "                    if len(image_urls) >= max_images * i:  \n",
    "                        break\n",
    "                except json.JSONDecodeError:\n",
    "                    continue\n",
    "    return image_urls"
   ]
  },
  {
   "cell_type": "code",
   "execution_count": 12,
   "id": "ad097d13",
   "metadata": {},
   "outputs": [
    {
     "name": "stdout",
     "output_type": "stream",
     "text": [
      "Image 1\n",
      "Image 2\n",
      "Image 3\n",
      "Image 4\n",
      "Image 5\n",
      "Image 6\n",
      "Image 7\n",
      "Image 8\n",
      "Image 9\n",
      "Image 10\n"
     ]
    }
   ],
   "source": [
    "urls = search_images([\"cumulus clouds\", \"cirrus clouds\"], max_images=10)\n",
    "\n",
    "for i, url in enumerate(urls):\n",
    "    print(f\"Image {i+1}\")"
   ]
  },
  {
   "cell_type": "code",
   "execution_count": 13,
   "id": "b90eb462",
   "metadata": {},
   "outputs": [
    {
     "ename": "ImportError",
     "evalue": "cannot import name 'search_images' from 'cloudproject' (/Users/corentinpradier/Documents/Codes/cloud-project/src/cloudproject/__init__.py)",
     "output_type": "error",
     "traceback": [
      "\u001b[31m---------------------------------------------------------------------------\u001b[39m",
      "\u001b[31mImportError\u001b[39m                               Traceback (most recent call last)",
      "\u001b[36mCell\u001b[39m\u001b[36m \u001b[39m\u001b[32mIn[13]\u001b[39m\u001b[32m, line 1\u001b[39m\n\u001b[32m----> \u001b[39m\u001b[32m1\u001b[39m \u001b[38;5;28;01mfrom\u001b[39;00m\u001b[38;5;250m \u001b[39m\u001b[34;01mcloudproject\u001b[39;00m\u001b[38;5;250m \u001b[39m\u001b[38;5;28;01mimport\u001b[39;00m search_images\n",
      "\u001b[31mImportError\u001b[39m: cannot import name 'search_images' from 'cloudproject' (/Users/corentinpradier/Documents/Codes/cloud-project/src/cloudproject/__init__.py)"
     ]
    }
   ],
   "source": [
    "from cloudproject import search_images"
   ]
  },
  {
   "cell_type": "code",
   "execution_count": null,
   "id": "8ac105b7",
   "metadata": {},
   "outputs": [],
   "source": [
    "from selenium.webdriver.chrome.options import Options\n",
    "from selenium import webdriver\n",
    "from selenium.webdriver.common.by import By\n",
    "import json\n",
    "import time\n",
    "\n",
    "def search_image_urls(query: str, max_images: int = 10) -> list[str]:\n",
    "    \"\"\"\n",
    "    Recherche des images sur Bing et retourne une liste d'URLs.\n",
    "    Gère le défilement infini pour obtenir le nombre d'images souhaité.\n",
    "\n",
    "    Args:\n",
    "        query (str): Le terme de recherche (ex: \"cumulus clouds\").\n",
    "        max_images (int): Le nombre maximum d'URLs d'images à retourner.\n",
    "\n",
    "    Returns:\n",
    "        list[str]: Une liste d'URLs d'images.\n",
    "    \"\"\"\n",
    "    options = Options()\n",
    "    options.add_argument(\"--headless\")\n",
    "    options.add_argument(\"--window-size=1920,1080\")\n",
    "\n",
    "    driver = None\n",
    "    image_urls = set()\n",
    "    try:\n",
    "        driver = webdriver.Chrome(options=options)\n",
    "        search_url = f\"https://www.bing.com/images/search?q={query.replace(' ', '+')}\"\n",
    "        print(f\"Navigation vers : {search_url}\")\n",
    "        driver.get(search_url)\n",
    "\n",
    "        last_height = driver.execute_script(\"return document.body.scrollHeight\")\n",
    "\n",
    "        while len(image_urls) < max_images:\n",
    "            driver.execute_script(\"window.scrollTo(0, document.body.scrollHeight);\")\n",
    "            time.sleep(2)  # Attendre que la page charge les nouvelles images\n",
    "\n",
    "            new_height = driver.execute_script(\"return document.body.scrollHeight\")\n",
    "            if new_height == last_height:\n",
    "                print(\"Fin de la page atteinte.\")\n",
    "                break\n",
    "            last_height = new_height\n",
    "\n",
    "            thumbnail_elements = driver.find_elements(By.CLASS_NAME, \"iusc\")\n",
    "            for thumb in thumbnail_elements:\n",
    "                m_json = thumb.get_attribute(\"m\")\n",
    "                if m_json:\n",
    "                    try:\n",
    "                        m_data = json.loads(m_json)\n",
    "                        image_urls.add(m_data[\"murl\"])\n",
    "                    except (json.JSONDecodeError, KeyError):\n",
    "                        continue\n",
    "            print(f\"URLs uniques trouvées : {len(image_urls)}/{max_images}\")\n",
    "\n",
    "    except Exception as e:\n",
    "        print(f\"Une erreur est survenue lors du scraping : {e}\")\n",
    "    finally:\n",
    "        if driver:\n",
    "            driver.quit()\n",
    "\n",
    "    print(f\"Scraping terminé. {len(image_urls)} URLs uniques trouvées.\")\n",
    "    return list(image_urls)[:max_images]\n"
   ]
  },
  {
   "cell_type": "code",
   "execution_count": null,
   "id": "14e4f619",
   "metadata": {},
   "outputs": [],
   "source": [
    "def search_image_urls(query: str, max_images: int = 10, verbose: bool = False) -> list[str]:\n",
    "    \"\"\"\n",
    "    Recherche des images sur Bing et retourne une liste d'URLs.\n",
    "    S'arrête si le nombre d'images récupérées est le même 3 fois d'affilée.\n",
    "\n",
    "    Args:\n",
    "        query (str): Le terme de recherche (ex: \"cumulus clouds\").\n",
    "        max_images (int): Le nombre maximum d'URLs d'images à retourner.\n",
    "\n",
    "    Returns:\n",
    "        list[str]: Une liste d'URLs d'images.\n",
    "    \"\"\"\n",
    "    options = Options()\n",
    "    options.add_argument(\"--headless\")\n",
    "    options.add_argument(\"--window-size=1920,1080\")\n",
    "\n",
    "    driver = None\n",
    "    image_urls = set()\n",
    "    try:\n",
    "        driver = webdriver.Chrome(options=options)\n",
    "        search_url = f\"https://www.bing.com/images/search?q={query.replace(' ', '+')}\"\n",
    "        if verbose:\n",
    "            print(f\"Navigation vers : {search_url}\")\n",
    "        driver.get(search_url)\n",
    "\n",
    "        last_height = driver.execute_script(\"return document.body.scrollHeight\")\n",
    "\n",
    "        scroll_attempts_without_change = 0\n",
    "        MAX_ATTEMPTS = 3\n",
    "\n",
    "        same_count_attempts = 0  # compteur de stagnation\n",
    "        previous_count = 0       # nombre d'images lors de la précédente boucle\n",
    "\n",
    "        while len(image_urls) < max_images:\n",
    "            # Extraire les URLs\n",
    "            thumbnail_elements = driver.find_elements(By.CLASS_NAME, \"iusc\")\n",
    "            for thumb in thumbnail_elements:\n",
    "                m_json = thumb.get_attribute(\"m\")\n",
    "                if m_json:\n",
    "                    try:\n",
    "                        m_data = json.loads(m_json)\n",
    "                        image_urls.add(m_data[\"murl\"])\n",
    "                    except (json.JSONDecodeError, KeyError):\n",
    "                        continue\n",
    "\n",
    "            current_count = len(image_urls)\n",
    "            if verbose:\n",
    "                print(f\"URLs uniques trouvées : {current_count}/{max_images}\")\n",
    "\n",
    "            # Vérifier si le nombre d'images a augmenté\n",
    "            if current_count == previous_count:\n",
    "                same_count_attempts += 1\n",
    "                if verbose:\n",
    "                    print(f\"Nombre d'images inchangé ({current_count}) - tentative {same_count_attempts}/3\")\n",
    "                if same_count_attempts >= 3:\n",
    "                    if verbose:\n",
    "                        print(\"Nombre d'images inchangé trois fois d'affilée. Arrêt.\")\n",
    "                    break\n",
    "            else:\n",
    "                same_count_attempts = 0  # reset si ça évolue\n",
    "                previous_count = current_count\n",
    "\n",
    "            if current_count >= max_images:\n",
    "                if verbose:\n",
    "                    print(f\"Objectif de {max_images} URLs atteint.\")\n",
    "                break\n",
    "\n",
    "            # Scroll vers le bas\n",
    "            driver.execute_script(\"window.scrollTo(0, document.body.scrollHeight);\")\n",
    "            time.sleep(2)\n",
    "\n",
    "            new_height = driver.execute_script(\"return document.body.scrollHeight\")\n",
    "            if new_height == last_height:\n",
    "                scroll_attempts_without_change += 1\n",
    "                if verbose:\n",
    "                    print(f\"La hauteur de la page n'a pas changé (tentative {scroll_attempts_without_change}/{MAX_ATTEMPTS}).\")\n",
    "                try:\n",
    "                    see_more_button = driver.find_element(By.CLASS_NAME, \"btn_seemore\")\n",
    "                    if verbose:\n",
    "                        print(\"Bouton 'Voir plus' trouvé, clic...\")\n",
    "                    driver.execute_script(\"arguments[0].click();\", see_more_button)\n",
    "                    time.sleep(2)\n",
    "                    scroll_attempts_without_change = 0\n",
    "                except Exception:\n",
    "                    if scroll_attempts_without_change >= MAX_ATTEMPTS:\n",
    "                        if verbose:\n",
    "                            print(\"Fin de page ou plus de contenu détecté.\")\n",
    "                        break\n",
    "            else:\n",
    "                scroll_attempts_without_change = 0\n",
    "            last_height = new_height\n",
    "\n",
    "    except Exception as e:\n",
    "        if verbose:\n",
    "            print(f\"Une erreur est survenue lors du scraping : {e}\")\n",
    "    finally:\n",
    "        if driver:\n",
    "            driver.quit()\n",
    "\n",
    "    print(f\"Scraping terminé. {len(image_urls)} URLs uniques trouvées.\")\n",
    "    return list(image_urls)[:max_images]"
   ]
  },
  {
   "cell_type": "code",
   "execution_count": null,
   "id": "1db44c09",
   "metadata": {},
   "outputs": [],
   "source": [
    "from typing import Union\n",
    "from PIL import Image\n",
    "import io\n",
    "import requests\n",
    "\n",
    "def url_to_image(url: Union[str, list[str]]):\n",
    "    if isinstance(url, str):\n",
    "        url = [url]\n",
    "\n",
    "    images = []\n",
    "    for u in url:\n",
    "        response = requests.get(u, timeout=10, headers={\"User-Agent\": \"Mozilla/5.0\"})\n",
    "        image = Image.open(io.BytesIO(response.content))\n",
    "        images.append(image)\n",
    "    \n",
    "    return images"
   ]
  },
  {
   "cell_type": "code",
   "execution_count": null,
   "id": "c5af0d5a",
   "metadata": {},
   "outputs": [
    {
     "name": "stdout",
     "output_type": "stream",
     "text": [
      "Navigation vers : https://www.bing.com/images/search?q=altocumulus+clouds\n",
      "URLs uniques trouvées : 50/10\n",
      "Objectif de 10 URLs atteint.\n",
      "Scraping terminé. 50 URLs uniques trouvées.\n",
      "Image sauvegardée sous : altocumulus.jpg\n",
      "Image sauvegardée sous : large.5768dda1ccb6d_Ac1.jpg\n",
      "Image sauvegardée sous : IMG_1902-1-600x400.jpg\n",
      "Image sauvegardée sous : altostratus-cloud-classification-middle-level-cloud4.jpg\n",
      "Image sauvegardée sous : altocumulus-sunset-krista-wimmer.jpg\n"
     ]
    }
   ],
   "source": [
    "urls = search_image_urls(\"altocumulus clouds\", max_images=10, verbose=True)\n",
    "\n",
    "images, filenames = url_to_image(urls[:5], save=True)  # Affiche les 5 premières images"
   ]
  },
  {
   "cell_type": "code",
   "execution_count": null,
   "id": "3e195072",
   "metadata": {},
   "outputs": [
    {
     "data": {
      "text/plain": [
       "['altocumulus.jpg',\n",
       " 'large.5768dda1ccb6d_Ac1.jpg',\n",
       " 'IMG_1902-1-600x400.jpg',\n",
       " 'altostratus-cloud-classification-middle-level-cloud4.jpg',\n",
       " 'altocumulus-sunset-krista-wimmer.jpg']"
      ]
     },
     "execution_count": 96,
     "metadata": {},
     "output_type": "execute_result"
    }
   ],
   "source": [
    "filenames"
   ]
  },
  {
   "cell_type": "code",
   "execution_count": null,
   "id": "34b296c4",
   "metadata": {},
   "outputs": [],
   "source": [
    "from pathlib import Path\n",
    "\n",
    "def url_to_image(url: Union[str, list[str]], save: bool = False, save_path: str = \"../../data/scraped/\") -> list[Image.Image]:\n",
    "    if isinstance(url, str):\n",
    "        url = [url]\n",
    "\n",
    "    images = []\n",
    "    filenames = []\n",
    "    for u in url:\n",
    "        response = requests.get(u, timeout=10, headers={\"User-Agent\": \"Mozilla/5.0\"})\n",
    "        image = Image.open(io.BytesIO(response.content))\n",
    "        images.append(image)\n",
    "\n",
    "        if save:\n",
    "            filename = clean_image_filename(u)\n",
    "            filenames.append(filename)\n",
    "            image.save(f\"{save_path}{filename}\")\n",
    "            print(f\"Image sauvegardée sous : {filename}\")\n",
    "\n",
    "    if save:\n",
    "        return images, filenames\n",
    "    else:\n",
    "        return images\n"
   ]
  },
  {
   "cell_type": "code",
   "execution_count": null,
   "id": "1e7de85e",
   "metadata": {},
   "outputs": [],
   "source": [
    "import os\n",
    "import re\n",
    "from urllib.parse import urlparse\n",
    "\n",
    "def clean_image_filename(url: str) -> str:\n",
    "    \"\"\"\n",
    "    Extrait le nom de fichier propre à partir d'une URL d'image.\n",
    "    Supprime les paramètres après l'extension (.jpg, .png, etc.).\n",
    "\n",
    "    Args:\n",
    "        url (str): L'URL de l'image.\n",
    "\n",
    "    Returns:\n",
    "        str: Le nom de fichier propre, ou None si aucun nom valide trouvé.\n",
    "    \"\"\"\n",
    "    # Extraire le chemin brut de l'URL\n",
    "    parsed = urlparse(url)\n",
    "    path = parsed.path  # exemple : \"/images/photo.jpg\"\n",
    "\n",
    "    # Extraire le dernier segment (le nom du fichier brut)\n",
    "    filename = os.path.basename(path)\n",
    "\n",
    "    # Nettoyer : supprimer tout après l'extension d'image\n",
    "    match = re.match(r\"^(.*?\\.(jpg|jpeg|png|gif|bmp|webp))\", filename, re.IGNORECASE)\n",
    "    if match:\n",
    "        return match.group(1)\n",
    "    else:\n",
    "        return None\n"
   ]
  },
  {
   "cell_type": "code",
   "execution_count": null,
   "id": "df60506a",
   "metadata": {},
   "outputs": [],
   "source": []
  }
 ],
 "metadata": {
  "kernelspec": {
   "display_name": "venv",
   "language": "python",
   "name": "python3"
  },
  "language_info": {
   "codemirror_mode": {
    "name": "ipython",
    "version": 3
   },
   "file_extension": ".py",
   "mimetype": "text/x-python",
   "name": "python",
   "nbconvert_exporter": "python",
   "pygments_lexer": "ipython3",
   "version": "3.11.13"
  }
 },
 "nbformat": 4,
 "nbformat_minor": 5
}
